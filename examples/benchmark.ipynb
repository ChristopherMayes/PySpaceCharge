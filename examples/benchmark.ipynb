{
 "cells": [
  {
   "cell_type": "code",
   "execution_count": 1,
   "metadata": {},
   "outputs": [],
   "source": [
    "%load_ext autoreload\n",
    "%autoreload 2"
   ]
  },
  {
   "cell_type": "markdown",
   "metadata": {},
   "source": [
    "# Space Charge Benchmark\n",
    "\n",
    "Reproduce plots in:\n",
    "\n",
    "C. E. Mayes, R. D. Ryne, D. C. Sagan, *3D Space Charge in Bmad*, IPAC2018, Vancouver, BC, Canada\n",
    "https://accelconf.web.cern.ch/ipac2018/papers/thpak085.pdf\n"
   ]
  },
  {
   "cell_type": "code",
   "execution_count": 2,
   "metadata": {},
   "outputs": [],
   "source": [
    "from spacecharge.freespace import igf_mesh3, spacecharge_mesh\n",
    "from spacecharge.deposit import deposit_particles\n",
    "from spacecharge.testing import test_particles"
   ]
  },
  {
   "cell_type": "code",
   "execution_count": 3,
   "metadata": {},
   "outputs": [],
   "source": [
    "import numpy as np\n",
    "\n",
    "from scipy.signal import fftconvolve, oaconvolve\n",
    "from scipy.interpolate import interpn\n",
    "\n",
    "import matplotlib.pyplot as plt\n",
    "import matplotlib\n",
    "matplotlib.rcParams['figure.figsize'] = (8,6)\n",
    "%config InlineBackend.figure_format = 'retina'"
   ]
  },
  {
   "cell_type": "markdown",
   "metadata": {},
   "source": [
    "# Create Gaussian particles"
   ]
  },
  {
   "cell_type": "code",
   "execution_count": 4,
   "metadata": {},
   "outputs": [
    {
     "data": {
      "text/plain": [
       "(10000000, 3)"
      ]
     },
     "execution_count": 4,
     "metadata": {},
     "output_type": "execute_result"
    }
   ],
   "source": [
    "RATIO = 1\n",
    "\n",
    "NP = 10000000\n",
    "# Beam sizes in m\n",
    "SIGX = 0.001\n",
    "SIGY = 0.001\n",
    "SIGZ = 0.001 * RATIO \n",
    "CHARGE = 1e-9 # C\n",
    "\n",
    "BINS = (128,128,128)\n",
    "\n",
    "particles, weights = test_particles(n_particle=NP, sigma_x=SIGX, sigma_y=SIGY, sigma_z=SIGZ,\n",
    "                                total_charge=CHARGE)\n",
    "\n",
    "particles.shape"
   ]
  },
  {
   "cell_type": "code",
   "execution_count": 5,
   "metadata": {},
   "outputs": [
    {
     "data": {
      "text/plain": [
       "(-5.074274469437327, 5.531436981855725)"
      ]
     },
     "execution_count": 5,
     "metadata": {},
     "output_type": "execute_result"
    }
   ],
   "source": [
    "particles[:,2].min()/SIGZ, particles[:,2].max()/SIGZ"
   ]
  },
  {
   "cell_type": "code",
   "execution_count": 6,
   "metadata": {},
   "outputs": [
    {
     "data": {
      "text/plain": [
       "((128, 128, 128),\n",
       " array([8.17554174e-05, 8.19585614e-05, 8.28571207e-05]),\n",
       " (3, 128))"
      ]
     },
     "execution_count": 6,
     "metadata": {},
     "output_type": "execute_result"
    }
   ],
   "source": [
    "rho_mesh, deltas, coord_vecs = deposit_particles(particles, weights=weights, bins=BINS)\n",
    "rho_mesh.shape, deltas, coord_vecs.shape"
   ]
  },
  {
   "cell_type": "code",
   "execution_count": 7,
   "metadata": {},
   "outputs": [],
   "source": [
    "# Coordinate meshes\n",
    "X, Y, Z = np.meshgrid(*coord_vecs, indexing='ij') "
   ]
  },
  {
   "cell_type": "markdown",
   "metadata": {},
   "source": [
    "# Space Charge mesh"
   ]
  },
  {
   "cell_type": "code",
   "execution_count": 8,
   "metadata": {},
   "outputs": [
    {
     "name": "stdout",
     "output_type": "stream",
     "text": [
      "CPU times: user 4.57 s, sys: 1.71 s, total: 6.28 s\n",
      "Wall time: 6.35 s\n"
     ]
    }
   ],
   "source": [
    "%%time\n",
    "Ex_mesh = spacecharge_mesh(rho_mesh, deltas, gamma=1, component='x')"
   ]
  },
  {
   "cell_type": "code",
   "execution_count": 9,
   "metadata": {},
   "outputs": [
    {
     "name": "stdout",
     "output_type": "stream",
     "text": [
      "CPU times: user 4.41 s, sys: 1.46 s, total: 5.87 s\n",
      "Wall time: 5.93 s\n"
     ]
    }
   ],
   "source": [
    "%%time\n",
    "Ey_mesh = spacecharge_mesh(rho_mesh, deltas, gamma=1, component='y')"
   ]
  },
  {
   "cell_type": "code",
   "execution_count": null,
   "metadata": {},
   "outputs": [],
   "source": [
    "%%time\n",
    "Ez_mesh = spacecharge_mesh(rho_mesh, deltas, gamma=1, component='z')"
   ]
  },
  {
   "cell_type": "code",
   "execution_count": null,
   "metadata": {},
   "outputs": [],
   "source": [
    "plt.imshow(Ez_mesh[:,BINS[1]//2,:]/1e6, origin='lower')\n",
    "plt.title(r'$E_z$' +' mesh on the y=0 plane')\n",
    "plt.colorbar(label=r'$E_z$'+' (MV/m)')"
   ]
  },
  {
   "cell_type": "code",
   "execution_count": null,
   "metadata": {},
   "outputs": [],
   "source": [
    "plt.imshow(Ex_mesh[:,BINS[1]//2,:]/1e6, origin='lower')\n",
    "plt.title(r'$E_x$' +' mesh on the y=0 plane')\n",
    "plt.colorbar(label=r'$E_x$'+' (MV/m)')"
   ]
  },
  {
   "cell_type": "code",
   "execution_count": null,
   "metadata": {},
   "outputs": [],
   "source": [
    "iy =  BINS[1]//2 \n",
    "print(iy)\n",
    "\n",
    "Emag = np.sqrt((Ex_mesh[:,iy,:]**2 + Ey_mesh[:,iy,:]**2 + Ez_mesh[:,iy,:]**2))\n",
    "\n",
    "plt.imshow(Emag/1e6, origin='lower')\n",
    "plt.title(r'$|E|$' +' mesh on the y=0 plane')\n",
    "plt.colorbar(label=r'$|E|$'+' (MV/m)')"
   ]
  },
  {
   "cell_type": "code",
   "execution_count": null,
   "metadata": {},
   "outputs": [],
   "source": [
    "z0 = np.linspace(coord_vecs[2].min(), coord_vecs[2].max() , 1000)\n",
    "zpts = np.array([[0,0,z] for z in z0])\n",
    "\n",
    "# Plot on x=0, y=0 line\n",
    "Ez0 = interpn(coord_vecs, Ez_mesh, zpts)\n",
    "\n",
    "fig, ax = plt.subplots()\n",
    "ax.plot(z0/SIGZ, Ez0/1e6)\n",
    "\n",
    "ax.set_title(r'$E_z$'+' along the x=0, y=0 line')\n",
    "ax.set_xlim(-6, 6)\n",
    "ax.set_ylim(-10,10)\n",
    "ax.set_xlabel(r'$z/\\sigma_z$')\n",
    "ax.set_ylabel(r'$E_z~(MV/m)$')\n",
    "\n"
   ]
  },
  {
   "cell_type": "markdown",
   "metadata": {},
   "source": [
    "# Summary plots"
   ]
  },
  {
   "cell_type": "code",
   "execution_count": null,
   "metadata": {},
   "outputs": [],
   "source": [
    "# Ex \n",
    "x0 = np.linspace(coord_vecs[0].min(), coord_vecs[0].max() , 1000)\n",
    "xpts = np.array([[x,0,0] for x in x0])\n",
    "\n",
    "fig, ax = plt.subplots(figsize=(8,5))\n",
    "\n",
    "COLOR = {1:'black', 0.1:'blue', 0.01: 'purple', 10:'red'}\n",
    "\n",
    "for ratio in [.01, .1, 1, 10]:\n",
    "    deltas0 = deltas.copy()\n",
    "    deltas0[2] *= ratio\n",
    "    Ex_mesh = spacecharge_mesh(rho_mesh, deltas0, gamma=1, component='x')\n",
    "\n",
    "    Ex0 = interpn(coord_vecs, Ex_mesh, xpts)\n",
    "    \n",
    "    ax.plot(x0/SIGX, Ex0/1e6, color=COLOR[ratio], label=f'{ratio}')\n",
    "    \n",
    "    \n",
    "# Charge density    \n",
    "#ax2 = ax.twinx()      \n",
    "H, edges = np.histogram(particles[:, 0], bins=100)\n",
    "ax.fill_between(edges[1:]/SIGX, 0, H/H.max()*8, color='gray', alpha=0.2)    \n",
    "\n",
    "ax.set_xlim(-6, 6)\n",
    "ax.set_ylim(-10,10)    \n",
    "ax.set_xlabel(r'$x/\\sigma_x$')\n",
    "ax.set_ylabel(r'$E_x$'+' (MV/m)')    \n",
    "ax.legend(title='r')"
   ]
  },
  {
   "cell_type": "code",
   "execution_count": null,
   "metadata": {},
   "outputs": [],
   "source": [
    "# Ez \n",
    "z0 = np.linspace(coord_vecs[2].min(), coord_vecs[2].max() , 1000)\n",
    "zpts = np.array([[0,0,z] for z in z0])\n",
    "\n",
    "fig, ax = plt.subplots(figsize=(8,5))\n",
    "\n",
    "COLOR = {1:'black', 0.1:'blue', 0.01: 'purple', 10:'red'}\n",
    "\n",
    "for ratio in [.01, .1, 1, 10]:\n",
    "    deltas0 = deltas.copy()\n",
    "    deltas0[2] *= ratio\n",
    "    Ez_mesh = spacecharge_mesh(rho_mesh, deltas0, gamma=1, component='z')\n",
    "\n",
    "    Ez0 = interpn(coord_vecs, Ez_mesh, zpts)\n",
    "    \n",
    "    ax.plot(z0/SIGZ, Ez0/1e6, color=COLOR[ratio], label=f'{ratio}')\n",
    "    \n",
    "    \n",
    "# Charge density    \n",
    "#ax2 = ax.twinx()      \n",
    "H, edges = np.histogram(particles[:, 2], bins=100)\n",
    "ax.fill_between(edges[1:]/SIGZ, 0, H/H.max()*8, color='gray', alpha=0.2)    \n",
    "\n",
    "ax.set_xlim(-6, 6)\n",
    "ax.set_ylim(-10,10)    \n",
    "ax.set_xlabel(r'$z/\\sigma_z$')\n",
    "ax.set_ylabel(r'$E_z$'+' (MV/m)')     \n",
    "ax.legend(title='r')"
   ]
  }
 ],
 "metadata": {
  "kernelspec": {
   "display_name": "Python 3",
   "language": "python",
   "name": "python3"
  },
  "language_info": {
   "codemirror_mode": {
    "name": "ipython",
    "version": 3
   },
   "file_extension": ".py",
   "mimetype": "text/x-python",
   "name": "python",
   "nbconvert_exporter": "python",
   "pygments_lexer": "ipython3",
   "version": "3.9.2"
  }
 },
 "nbformat": 4,
 "nbformat_minor": 4
}
