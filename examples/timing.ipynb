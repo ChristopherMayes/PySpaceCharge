{
 "cells": [
  {
   "cell_type": "markdown",
   "metadata": {},
   "source": [
    "# Test the timing of various routines"
   ]
  },
  {
   "cell_type": "code",
   "execution_count": 25,
   "metadata": {},
   "outputs": [],
   "source": [
    "from numpy import sqrt, arctan, arctan2, log\n",
    "import numpy as np"
   ]
  },
  {
   "cell_type": "code",
   "execution_count": 26,
   "metadata": {},
   "outputs": [],
   "source": [
    "\n",
    "\n",
    "def test(x, y, z):\n",
    "    r=sqrt(x**2+y**2+z**2)\n",
    "\n",
    "    res=z-x*arctan2(z, x)+x*arctan2(y*z, (x*r))\n",
    "\n",
    "    # Handle special cases\n",
    "    ix = np.where(y+r != 0)\n",
    "\n",
    "    res[ix] = res[ix] - z[ix]*log(y[ix]+r[ix])\n",
    "    \n",
    "    ix = np.where(z+r != 0)\n",
    "    res[ix] = res[ix] - y[ix]*log(z[ix]+r[ix])\n",
    "    \n",
    "    return res \n",
    "    \n",
    "def test2(x, y, z):\n",
    "    \n",
    "    \"\"\"\n",
    "    Hint at:\n",
    "    https://stackoverflow.com/a/52209380\n",
    "    \"\"\"\n",
    "    r=sqrt(x**2+y**2+z**2)\n",
    "\n",
    "    res=z-x*arctan2(z, x)+x*arctan2(y*z, (x*r))\n",
    "\n",
    "    # Handle special cases\n",
    "    ypr = y+r\n",
    "    res -=  z*np.log(ypr, out=np.zeros_like(ypr), where=(ypr != 0))\n",
    "    \n",
    "    zpr = z+r\n",
    "    res -=  y*np.log(zpr, out=np.zeros_like(zpr), where=(zpr !=0))\n",
    "    \n",
    "    return res\n",
    "\n",
    "N = 256**3\n",
    "X = np.random.random(N)\n",
    "Y = np.random.random(N)\n",
    "Z = np.random.random(N)"
   ]
  },
  {
   "cell_type": "code",
   "execution_count": 27,
   "metadata": {},
   "outputs": [
    {
     "name": "stdout",
     "output_type": "stream",
     "text": [
      "2.49 s ± 45.4 ms per loop (mean ± std. dev. of 7 runs, 1 loop each)\n"
     ]
    }
   ],
   "source": [
    "%%timeit\n",
    "test(X, Y, Z)"
   ]
  },
  {
   "cell_type": "code",
   "execution_count": 28,
   "metadata": {},
   "outputs": [
    {
     "name": "stdout",
     "output_type": "stream",
     "text": [
      "2.17 s ± 122 ms per loop (mean ± std. dev. of 7 runs, 1 loop each)\n"
     ]
    }
   ],
   "source": [
    "%%timeit\n",
    "test2(X, Y, Z)"
   ]
  },
  {
   "cell_type": "code",
   "execution_count": 29,
   "metadata": {},
   "outputs": [
    {
     "data": {
      "text/plain": [
       "True"
      ]
     },
     "execution_count": 29,
     "metadata": {},
     "output_type": "execute_result"
    }
   ],
   "source": [
    "np.all(test(X, Y, Z) == test2(X, Y, Z))"
   ]
  },
  {
   "cell_type": "code",
   "execution_count": null,
   "metadata": {},
   "outputs": [],
   "source": []
  }
 ],
 "metadata": {
  "kernelspec": {
   "display_name": "Python 3",
   "language": "python",
   "name": "python3"
  },
  "language_info": {
   "codemirror_mode": {
    "name": "ipython",
    "version": 3
   },
   "file_extension": ".py",
   "mimetype": "text/x-python",
   "name": "python",
   "nbconvert_exporter": "python",
   "pygments_lexer": "ipython3",
   "version": "3.9.2"
  }
 },
 "nbformat": 4,
 "nbformat_minor": 4
}
